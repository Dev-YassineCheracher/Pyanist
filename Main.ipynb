{
 "cells": [
  {
   "cell_type": "code",
   "execution_count": null,
   "id": "8cdb9d2f-f27b-462f-82f2-466a5d378f53",
   "metadata": {},
   "outputs": [],
   "source": [
    "import pandas as pd\n",
    "import os\n",
    "train_files = sorted([os.path.join(\"dataset\", \"train\", filename) for filename in os.listdir(os.path.join(\"dataset\", \"train\")) if filename.endswith('.csv')])\n",
    "test_files = sorted([os.path.join(\"dataset\", \"test\", filename) for filename in os.listdir(os.path.join(\"dataset\", \"test\")) if filename.endswith('.csv')])\n",
    "valid_files = sorted([os.path.join(\"dataset\", \"valid\", filename) for filename in os.listdir(os.path.join(\"dataset\", \"valid\")) if filename.endswith('.csv')])"
   ]
  },
  {
   "cell_type": "code",
   "execution_count": null,
   "id": "3ba7b4a8-e532-42ad-bc1d-f7cbaa372713",
   "metadata": {},
   "outputs": [],
   "source": [
    "train_data = [pd.read_csv(f).values.tolist() for f in train_files]\n",
    "test_data = [pd.read_csv(f).values.tolist() for f in test_files]\n",
    "test_data = [pd.read_csv(f).values.tolist() for f in test_files]\n"
   ]
  },
  {
   "cell_type": "code",
   "execution_count": null,
   "id": "efb011e9-f704-411a-a50c-c273fc5428ac",
   "metadata": {},
   "outputs": [
    {
     "data": {
      "text/html": [
       "\n",
       "        <div id=\"midiPlayerDiv988\"></div>\n",
       "        <link rel=\"stylesheet\" href=\"https://cuthbertLab.github.io/music21j/css/m21.css\">\n",
       "        \n",
       "        <script\n",
       "        src=\"https://cdnjs.cloudflare.com/ajax/libs/require.js/2.3.6/require.min.js\"\n",
       "        ></script>\n",
       "    \n",
       "        <script>\n",
       "        function midiPlayerDiv988_play() {\n",
       "            const rq = require.config({\n",
       "                paths: {\n",
       "                    'music21': 'https://cuthbertLab.github.io/music21j/releases/music21.debug',\n",
       "                }\n",
       "            });\n",
       "            rq(['music21'], function(music21) {\n",
       "                mp = new music21.miditools.MidiPlayer();\n",
       "                mp.addPlayer(\"#midiPlayerDiv988\");\n",
       "                mp.base64Load(\"data:audio/midi;base64,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\");\n",
       "            });\n",
       "        }\n",
       "        if (typeof require === 'undefined') {\n",
       "            setTimeout(midiPlayerDiv988_play, 2000);\n",
       "        } else {\n",
       "            midiPlayerDiv988_play();\n",
       "        }\n",
       "        </script>"
      ],
      "text/plain": [
       "<IPython.core.display.HTML object>"
      ]
     },
     "metadata": {},
     "output_type": "display_data"
    }
   ],
   "source": [
    "from music21 import stream, chord\n",
    "\n",
    "chorale  = train_data[20]\n",
    "s = stream.Stream()\n",
    "for row in chorale:\n",
    "    s.append(chord.Chord([n for n in row if n], quaterLength = 1))\n",
    "s.show('midi')"
   ]
  },
  {
   "cell_type": "code",
   "execution_count": null,
   "id": "34218878-f7ae-446f-8030-1ce21b98c652",
   "metadata": {},
   "outputs": [],
   "source": [
    "import numpy as np \n",
    "\n",
    "min_note, max_note = 36, 81\n",
    "\n",
    "window_size, window_offset, batch_size = 32, 16, 32\n",
    "\n",
    "def make_xy(chorales):\n",
    "    windows = [c[i: i+ window_size +1] for c in chorales for i in range(0, len(c) - window_size, window_offset)]\n",
    "    data = np.array(windows, dtype=int)\n",
    "    data = np.where(data == 0, 0, data - min_note+1)\n",
    "    data = np.clip(data, 0, max_note - min_note +1)\n",
    "    flat = data.reshape(data.shape[0], -1)\n",
    "    return flat[:, :-1], flat[:, 1:]\n",
    "x_train, Y_train = make_xy(train_data)\n",
    "x_test, y_test = make_xy(test_data)\n",
    "x_valid, y_valid = make_xy(test_data)"
   ]
  },
  {
   "cell_type": "code",
   "execution_count": null,
   "id": "bfedf213-895d-40b7-8483-36b1f7117bf2",
   "metadata": {},
   "outputs": [
    {
     "data": {
      "text/plain": [
       "(3111, 131)"
      ]
     },
     "execution_count": 24,
     "metadata": {},
     "output_type": "execute_result"
    }
   ],
   "source": [
    "Y_train.shape"
   ]
  },
  {
   "cell_type": "code",
   "execution_count": null,
   "id": "70a5cbe2-66a3-4e74-ab83-015045b76301",
   "metadata": {},
   "outputs": [],
   "source": [
    "### Training the model"
   ]
  },
  {
   "cell_type": "code",
   "execution_count": null,
   "id": "3a9829d5-f03b-4975-99b1-3247de37b34b",
   "metadata": {},
   "outputs": [],
   "source": [
    "from tensorflow.keras.models import Sequential\n",
    "from tensorflow.keras.layers import Conv1D, Dense, Embedding, LSTM, Dropout, BatchNormalization\n",
    "from tensorflow.keras.optimizers import Nadam"
   ]
  },
  {
   "cell_type": "code",
   "execution_count": null,
   "id": "25737f09-34ed-420c-84a8-23f844aa7dc8",
   "metadata": {},
   "outputs": [
    {
     "name": "stderr",
     "output_type": "stream",
     "text": [
      "/Users/m2/Downloads/pythonProjects/AIandML/Pianist/.venv/lib/python3.13/site-packages/keras/src/layers/core/embedding.py:100: UserWarning: Do not pass an `input_shape`/`input_dim` argument to a layer. When using Sequential models, prefer using an `Input(shape)` object as the first layer in the model instead.\n",
      "  super().__init__(**kwargs)\n"
     ]
    },
    {
     "data": {
      "text/html": [
       "<pre style=\"white-space:pre;overflow-x:auto;line-height:normal;font-family:Menlo,'DejaVu Sans Mono',consolas,'Courier New',monospace\"><span style=\"font-weight: bold\">Model: \"sequential_4\"</span>\n",
       "</pre>\n"
      ],
      "text/plain": [
       "\u001B[1mModel: \"sequential_4\"\u001B[0m\n"
      ]
     },
     "metadata": {},
     "output_type": "display_data"
    },
    {
     "data": {
      "text/html": [
       "<pre style=\"white-space:pre;overflow-x:auto;line-height:normal;font-family:Menlo,'DejaVu Sans Mono',consolas,'Courier New',monospace\">┏━━━━━━━━━━━━━━━━━━━━━━━━━━━━━━━━━┳━━━━━━━━━━━━━━━━━━━━━━━━┳━━━━━━━━━━━━━━━┓\n",
       "┃<span style=\"font-weight: bold\"> Layer (type)                    </span>┃<span style=\"font-weight: bold\"> Output Shape           </span>┃<span style=\"font-weight: bold\">       Param # </span>┃\n",
       "┡━━━━━━━━━━━━━━━━━━━━━━━━━━━━━━━━━╇━━━━━━━━━━━━━━━━━━━━━━━━╇━━━━━━━━━━━━━━━┩\n",
       "│ embedding_4 (<span style=\"color: #0087ff; text-decoration-color: #0087ff\">Embedding</span>)         │ (<span style=\"color: #00d7ff; text-decoration-color: #00d7ff\">None</span>, <span style=\"color: #00d7ff; text-decoration-color: #00d7ff\">None</span>, <span style=\"color: #00af00; text-decoration-color: #00af00\">5</span>)        │           <span style=\"color: #00af00; text-decoration-color: #00af00\">235</span> │\n",
       "├─────────────────────────────────┼────────────────────────┼───────────────┤\n",
       "│ conv1d_9 (<span style=\"color: #0087ff; text-decoration-color: #0087ff\">Conv1D</span>)               │ (<span style=\"color: #00d7ff; text-decoration-color: #00d7ff\">None</span>, <span style=\"color: #00d7ff; text-decoration-color: #00d7ff\">None</span>, <span style=\"color: #00af00; text-decoration-color: #00af00\">32</span>)       │           <span style=\"color: #00af00; text-decoration-color: #00af00\">352</span> │\n",
       "├─────────────────────────────────┼────────────────────────┼───────────────┤\n",
       "│ batch_normalization_9           │ (<span style=\"color: #00d7ff; text-decoration-color: #00d7ff\">None</span>, <span style=\"color: #00d7ff; text-decoration-color: #00d7ff\">None</span>, <span style=\"color: #00af00; text-decoration-color: #00af00\">32</span>)       │           <span style=\"color: #00af00; text-decoration-color: #00af00\">128</span> │\n",
       "│ (<span style=\"color: #0087ff; text-decoration-color: #0087ff\">BatchNormalization</span>)            │                        │               │\n",
       "├─────────────────────────────────┼────────────────────────┼───────────────┤\n",
       "│ conv1d_10 (<span style=\"color: #0087ff; text-decoration-color: #0087ff\">Conv1D</span>)              │ (<span style=\"color: #00d7ff; text-decoration-color: #00d7ff\">None</span>, <span style=\"color: #00d7ff; text-decoration-color: #00d7ff\">None</span>, <span style=\"color: #00af00; text-decoration-color: #00af00\">48</span>)       │         <span style=\"color: #00af00; text-decoration-color: #00af00\">3,120</span> │\n",
       "├─────────────────────────────────┼────────────────────────┼───────────────┤\n",
       "│ batch_normalization_10          │ (<span style=\"color: #00d7ff; text-decoration-color: #00d7ff\">None</span>, <span style=\"color: #00d7ff; text-decoration-color: #00d7ff\">None</span>, <span style=\"color: #00af00; text-decoration-color: #00af00\">48</span>)       │           <span style=\"color: #00af00; text-decoration-color: #00af00\">192</span> │\n",
       "│ (<span style=\"color: #0087ff; text-decoration-color: #0087ff\">BatchNormalization</span>)            │                        │               │\n",
       "├─────────────────────────────────┼────────────────────────┼───────────────┤\n",
       "│ conv1d_11 (<span style=\"color: #0087ff; text-decoration-color: #0087ff\">Conv1D</span>)              │ (<span style=\"color: #00d7ff; text-decoration-color: #00d7ff\">None</span>, <span style=\"color: #00d7ff; text-decoration-color: #00d7ff\">None</span>, <span style=\"color: #00af00; text-decoration-color: #00af00\">64</span>)       │         <span style=\"color: #00af00; text-decoration-color: #00af00\">6,208</span> │\n",
       "├─────────────────────────────────┼────────────────────────┼───────────────┤\n",
       "│ batch_normalization_11          │ (<span style=\"color: #00d7ff; text-decoration-color: #00d7ff\">None</span>, <span style=\"color: #00d7ff; text-decoration-color: #00d7ff\">None</span>, <span style=\"color: #00af00; text-decoration-color: #00af00\">64</span>)       │           <span style=\"color: #00af00; text-decoration-color: #00af00\">256</span> │\n",
       "│ (<span style=\"color: #0087ff; text-decoration-color: #0087ff\">BatchNormalization</span>)            │                        │               │\n",
       "├─────────────────────────────────┼────────────────────────┼───────────────┤\n",
       "│ conv1d_12 (<span style=\"color: #0087ff; text-decoration-color: #0087ff\">Conv1D</span>)              │ (<span style=\"color: #00d7ff; text-decoration-color: #00d7ff\">None</span>, <span style=\"color: #00d7ff; text-decoration-color: #00d7ff\">None</span>, <span style=\"color: #00af00; text-decoration-color: #00af00\">96</span>)       │        <span style=\"color: #00af00; text-decoration-color: #00af00\">12,384</span> │\n",
       "├─────────────────────────────────┼────────────────────────┼───────────────┤\n",
       "│ batch_normalization_12          │ (<span style=\"color: #00d7ff; text-decoration-color: #00d7ff\">None</span>, <span style=\"color: #00d7ff; text-decoration-color: #00d7ff\">None</span>, <span style=\"color: #00af00; text-decoration-color: #00af00\">96</span>)       │           <span style=\"color: #00af00; text-decoration-color: #00af00\">384</span> │\n",
       "│ (<span style=\"color: #0087ff; text-decoration-color: #0087ff\">BatchNormalization</span>)            │                        │               │\n",
       "├─────────────────────────────────┼────────────────────────┼───────────────┤\n",
       "│ conv1d_13 (<span style=\"color: #0087ff; text-decoration-color: #0087ff\">Conv1D</span>)              │ (<span style=\"color: #00d7ff; text-decoration-color: #00d7ff\">None</span>, <span style=\"color: #00d7ff; text-decoration-color: #00d7ff\">None</span>, <span style=\"color: #00af00; text-decoration-color: #00af00\">128</span>)      │        <span style=\"color: #00af00; text-decoration-color: #00af00\">24,704</span> │\n",
       "├─────────────────────────────────┼────────────────────────┼───────────────┤\n",
       "│ batch_normalization_13          │ (<span style=\"color: #00d7ff; text-decoration-color: #00d7ff\">None</span>, <span style=\"color: #00d7ff; text-decoration-color: #00d7ff\">None</span>, <span style=\"color: #00af00; text-decoration-color: #00af00\">128</span>)      │           <span style=\"color: #00af00; text-decoration-color: #00af00\">512</span> │\n",
       "│ (<span style=\"color: #0087ff; text-decoration-color: #0087ff\">BatchNormalization</span>)            │                        │               │\n",
       "├─────────────────────────────────┼────────────────────────┼───────────────┤\n",
       "│ dropout_1 (<span style=\"color: #0087ff; text-decoration-color: #0087ff\">Dropout</span>)             │ (<span style=\"color: #00d7ff; text-decoration-color: #00d7ff\">None</span>, <span style=\"color: #00d7ff; text-decoration-color: #00d7ff\">None</span>, <span style=\"color: #00af00; text-decoration-color: #00af00\">128</span>)      │             <span style=\"color: #00af00; text-decoration-color: #00af00\">0</span> │\n",
       "├─────────────────────────────────┼────────────────────────┼───────────────┤\n",
       "│ lstm_1 (<span style=\"color: #0087ff; text-decoration-color: #0087ff\">LSTM</span>)                   │ (<span style=\"color: #00d7ff; text-decoration-color: #00d7ff\">None</span>, <span style=\"color: #00d7ff; text-decoration-color: #00d7ff\">None</span>, <span style=\"color: #00af00; text-decoration-color: #00af00\">256</span>)      │       <span style=\"color: #00af00; text-decoration-color: #00af00\">394,240</span> │\n",
       "├─────────────────────────────────┼────────────────────────┼───────────────┤\n",
       "│ dense_1 (<span style=\"color: #0087ff; text-decoration-color: #0087ff\">Dense</span>)                 │ (<span style=\"color: #00d7ff; text-decoration-color: #00d7ff\">None</span>, <span style=\"color: #00d7ff; text-decoration-color: #00d7ff\">None</span>, <span style=\"color: #00af00; text-decoration-color: #00af00\">47</span>)       │        <span style=\"color: #00af00; text-decoration-color: #00af00\">12,079</span> │\n",
       "└─────────────────────────────────┴────────────────────────┴───────────────┘\n",
       "</pre>\n"
      ],
      "text/plain": [
       "┏━━━━━━━━━━━━━━━━━━━━━━━━━━━━━━━━━┳━━━━━━━━━━━━━━━━━━━━━━━━┳━━━━━━━━━━━━━━━┓\n",
       "┃\u001B[1m \u001B[0m\u001B[1mLayer (type)                   \u001B[0m\u001B[1m \u001B[0m┃\u001B[1m \u001B[0m\u001B[1mOutput Shape          \u001B[0m\u001B[1m \u001B[0m┃\u001B[1m \u001B[0m\u001B[1m      Param #\u001B[0m\u001B[1m \u001B[0m┃\n",
       "┡━━━━━━━━━━━━━━━━━━━━━━━━━━━━━━━━━╇━━━━━━━━━━━━━━━━━━━━━━━━╇━━━━━━━━━━━━━━━┩\n",
       "│ embedding_4 (\u001B[38;5;33mEmbedding\u001B[0m)         │ (\u001B[38;5;45mNone\u001B[0m, \u001B[38;5;45mNone\u001B[0m, \u001B[38;5;34m5\u001B[0m)        │           \u001B[38;5;34m235\u001B[0m │\n",
       "├─────────────────────────────────┼────────────────────────┼───────────────┤\n",
       "│ conv1d_9 (\u001B[38;5;33mConv1D\u001B[0m)               │ (\u001B[38;5;45mNone\u001B[0m, \u001B[38;5;45mNone\u001B[0m, \u001B[38;5;34m32\u001B[0m)       │           \u001B[38;5;34m352\u001B[0m │\n",
       "├─────────────────────────────────┼────────────────────────┼───────────────┤\n",
       "│ batch_normalization_9           │ (\u001B[38;5;45mNone\u001B[0m, \u001B[38;5;45mNone\u001B[0m, \u001B[38;5;34m32\u001B[0m)       │           \u001B[38;5;34m128\u001B[0m │\n",
       "│ (\u001B[38;5;33mBatchNormalization\u001B[0m)            │                        │               │\n",
       "├─────────────────────────────────┼────────────────────────┼───────────────┤\n",
       "│ conv1d_10 (\u001B[38;5;33mConv1D\u001B[0m)              │ (\u001B[38;5;45mNone\u001B[0m, \u001B[38;5;45mNone\u001B[0m, \u001B[38;5;34m48\u001B[0m)       │         \u001B[38;5;34m3,120\u001B[0m │\n",
       "├─────────────────────────────────┼────────────────────────┼───────────────┤\n",
       "│ batch_normalization_10          │ (\u001B[38;5;45mNone\u001B[0m, \u001B[38;5;45mNone\u001B[0m, \u001B[38;5;34m48\u001B[0m)       │           \u001B[38;5;34m192\u001B[0m │\n",
       "│ (\u001B[38;5;33mBatchNormalization\u001B[0m)            │                        │               │\n",
       "├─────────────────────────────────┼────────────────────────┼───────────────┤\n",
       "│ conv1d_11 (\u001B[38;5;33mConv1D\u001B[0m)              │ (\u001B[38;5;45mNone\u001B[0m, \u001B[38;5;45mNone\u001B[0m, \u001B[38;5;34m64\u001B[0m)       │         \u001B[38;5;34m6,208\u001B[0m │\n",
       "├─────────────────────────────────┼────────────────────────┼───────────────┤\n",
       "│ batch_normalization_11          │ (\u001B[38;5;45mNone\u001B[0m, \u001B[38;5;45mNone\u001B[0m, \u001B[38;5;34m64\u001B[0m)       │           \u001B[38;5;34m256\u001B[0m │\n",
       "│ (\u001B[38;5;33mBatchNormalization\u001B[0m)            │                        │               │\n",
       "├─────────────────────────────────┼────────────────────────┼───────────────┤\n",
       "│ conv1d_12 (\u001B[38;5;33mConv1D\u001B[0m)              │ (\u001B[38;5;45mNone\u001B[0m, \u001B[38;5;45mNone\u001B[0m, \u001B[38;5;34m96\u001B[0m)       │        \u001B[38;5;34m12,384\u001B[0m │\n",
       "├─────────────────────────────────┼────────────────────────┼───────────────┤\n",
       "│ batch_normalization_12          │ (\u001B[38;5;45mNone\u001B[0m, \u001B[38;5;45mNone\u001B[0m, \u001B[38;5;34m96\u001B[0m)       │           \u001B[38;5;34m384\u001B[0m │\n",
       "│ (\u001B[38;5;33mBatchNormalization\u001B[0m)            │                        │               │\n",
       "├─────────────────────────────────┼────────────────────────┼───────────────┤\n",
       "│ conv1d_13 (\u001B[38;5;33mConv1D\u001B[0m)              │ (\u001B[38;5;45mNone\u001B[0m, \u001B[38;5;45mNone\u001B[0m, \u001B[38;5;34m128\u001B[0m)      │        \u001B[38;5;34m24,704\u001B[0m │\n",
       "├─────────────────────────────────┼────────────────────────┼───────────────┤\n",
       "│ batch_normalization_13          │ (\u001B[38;5;45mNone\u001B[0m, \u001B[38;5;45mNone\u001B[0m, \u001B[38;5;34m128\u001B[0m)      │           \u001B[38;5;34m512\u001B[0m │\n",
       "│ (\u001B[38;5;33mBatchNormalization\u001B[0m)            │                        │               │\n",
       "├─────────────────────────────────┼────────────────────────┼───────────────┤\n",
       "│ dropout_1 (\u001B[38;5;33mDropout\u001B[0m)             │ (\u001B[38;5;45mNone\u001B[0m, \u001B[38;5;45mNone\u001B[0m, \u001B[38;5;34m128\u001B[0m)      │             \u001B[38;5;34m0\u001B[0m │\n",
       "├─────────────────────────────────┼────────────────────────┼───────────────┤\n",
       "│ lstm_1 (\u001B[38;5;33mLSTM\u001B[0m)                   │ (\u001B[38;5;45mNone\u001B[0m, \u001B[38;5;45mNone\u001B[0m, \u001B[38;5;34m256\u001B[0m)      │       \u001B[38;5;34m394,240\u001B[0m │\n",
       "├─────────────────────────────────┼────────────────────────┼───────────────┤\n",
       "│ dense_1 (\u001B[38;5;33mDense\u001B[0m)                 │ (\u001B[38;5;45mNone\u001B[0m, \u001B[38;5;45mNone\u001B[0m, \u001B[38;5;34m47\u001B[0m)       │        \u001B[38;5;34m12,079\u001B[0m │\n",
       "└─────────────────────────────────┴────────────────────────┴───────────────┘\n"
      ]
     },
     "metadata": {},
     "output_type": "display_data"
    },
    {
     "data": {
      "text/html": [
       "<pre style=\"white-space:pre;overflow-x:auto;line-height:normal;font-family:Menlo,'DejaVu Sans Mono',consolas,'Courier New',monospace\"><span style=\"font-weight: bold\"> Total params: </span><span style=\"color: #00af00; text-decoration-color: #00af00\">454,794</span> (1.73 MB)\n",
       "</pre>\n"
      ],
      "text/plain": [
       "\u001B[1m Total params: \u001B[0m\u001B[38;5;34m454,794\u001B[0m (1.73 MB)\n"
      ]
     },
     "metadata": {},
     "output_type": "display_data"
    },
    {
     "data": {
      "text/html": [
       "<pre style=\"white-space:pre;overflow-x:auto;line-height:normal;font-family:Menlo,'DejaVu Sans Mono',consolas,'Courier New',monospace\"><span style=\"font-weight: bold\"> Trainable params: </span><span style=\"color: #00af00; text-decoration-color: #00af00\">454,058</span> (1.73 MB)\n",
       "</pre>\n"
      ],
      "text/plain": [
       "\u001B[1m Trainable params: \u001B[0m\u001B[38;5;34m454,058\u001B[0m (1.73 MB)\n"
      ]
     },
     "metadata": {},
     "output_type": "display_data"
    },
    {
     "data": {
      "text/html": [
       "<pre style=\"white-space:pre;overflow-x:auto;line-height:normal;font-family:Menlo,'DejaVu Sans Mono',consolas,'Courier New',monospace\"><span style=\"font-weight: bold\"> Non-trainable params: </span><span style=\"color: #00af00; text-decoration-color: #00af00\">736</span> (2.88 KB)\n",
       "</pre>\n"
      ],
      "text/plain": [
       "\u001B[1m Non-trainable params: \u001B[0m\u001B[38;5;34m736\u001B[0m (2.88 KB)\n"
      ]
     },
     "metadata": {},
     "output_type": "display_data"
    }
   ],
   "source": [
    "model = Sequential()\n",
    "\n",
    "model.add(Embedding(input_dim=47, output_dim=5, input_shape = [None]))\n",
    "model.add(Conv1D(32, kernel_size=2, padding='causal', activation='relu'))\n",
    "\n",
    "model.add(BatchNormalization())\n",
    "model.add(Conv1D(48, kernel_size=2, padding='causal', activation='relu', dilation_rate=2))\n",
    "\n",
    "model.add(BatchNormalization())\n",
    "model.add(Conv1D(64, kernel_size=2, padding='causal', activation='relu', dilation_rate=4))\n",
    "\n",
    "model.add(BatchNormalization())\n",
    "model.add(Conv1D(96, kernel_size=2, padding='causal', activation='relu', dilation_rate=8))\n",
    "\n",
    "\n",
    "model.add(BatchNormalization())\n",
    "model.add(Conv1D(128, kernel_size=2, padding='causal', activation='relu', dilation_rate=16))\n",
    "\n",
    "model.add(BatchNormalization())\n",
    "model.add(Dropout(0.05))\n",
    "model.add(LSTM(256, return_sequences=True))\n",
    "model.add(Dense(47, activation='softmax'))\n",
    "\n",
    "model.summary()\n"
   ]
  },
  {
   "cell_type": "code",
   "execution_count": null,
   "id": "a48d1540-1a9f-4732-b9fd-ddbd7bfd3af9",
   "metadata": {},
   "outputs": [
    {
     "name": "stdout",
     "output_type": "stream",
     "text": [
      "Epoch 1/20\n",
      "\u001B[1m98/98\u001B[0m \u001B[32m━━━━━━━━━━━━━━━━━━━━\u001B[0m\u001B[37m\u001B[0m \u001B[1m18s\u001B[0m 155ms/step - accuracy: 0.5320 - loss: 1.8274 - val_accuracy: 0.0594 - val_loss: 3.8795\n",
      "Epoch 2/20\n",
      "\u001B[1m98/98\u001B[0m \u001B[32m━━━━━━━━━━━━━━━━━━━━\u001B[0m\u001B[37m\u001B[0m \u001B[1m16s\u001B[0m 165ms/step - accuracy: 0.7745 - loss: 0.8429 - val_accuracy: 0.0948 - val_loss: 3.9723\n",
      "Epoch 3/20\n",
      "\u001B[1m98/98\u001B[0m \u001B[32m━━━━━━━━━━━━━━━━━━━━\u001B[0m\u001B[37m\u001B[0m \u001B[1m16s\u001B[0m 162ms/step - accuracy: 0.8011 - loss: 0.7007 - val_accuracy: 0.1591 - val_loss: 3.9085\n",
      "Epoch 4/20\n",
      "\u001B[1m98/98\u001B[0m \u001B[32m━━━━━━━━━━━━━━━━━━━━\u001B[0m\u001B[37m\u001B[0m \u001B[1m16s\u001B[0m 163ms/step - accuracy: 0.8162 - loss: 0.6307 - val_accuracy: 0.2519 - val_loss: 3.1218\n",
      "Epoch 5/20\n",
      "\u001B[1m98/98\u001B[0m \u001B[32m━━━━━━━━━━━━━━━━━━━━\u001B[0m\u001B[37m\u001B[0m \u001B[1m16s\u001B[0m 161ms/step - accuracy: 0.8277 - loss: 0.5793 - val_accuracy: 0.4458 - val_loss: 1.9546\n",
      "Epoch 6/20\n",
      "\u001B[1m98/98\u001B[0m \u001B[32m━━━━━━━━━━━━━━━━━━━━\u001B[0m\u001B[37m\u001B[0m \u001B[1m16s\u001B[0m 166ms/step - accuracy: 0.8372 - loss: 0.5402 - val_accuracy: 0.6880 - val_loss: 1.0341\n",
      "Epoch 7/20\n",
      "\u001B[1m98/98\u001B[0m \u001B[32m━━━━━━━━━━━━━━━━━━━━\u001B[0m\u001B[37m\u001B[0m \u001B[1m16s\u001B[0m 167ms/step - accuracy: 0.8460 - loss: 0.5062 - val_accuracy: 0.7955 - val_loss: 0.6890\n",
      "Epoch 8/20\n",
      "\u001B[1m98/98\u001B[0m \u001B[32m━━━━━━━━━━━━━━━━━━━━\u001B[0m\u001B[37m\u001B[0m \u001B[1m16s\u001B[0m 167ms/step - accuracy: 0.8541 - loss: 0.4760 - val_accuracy: 0.8114 - val_loss: 0.6326\n",
      "Epoch 9/20\n",
      "\u001B[1m98/98\u001B[0m \u001B[32m━━━━━━━━━━━━━━━━━━━━\u001B[0m\u001B[37m\u001B[0m \u001B[1m17s\u001B[0m 171ms/step - accuracy: 0.8615 - loss: 0.4492 - val_accuracy: 0.8166 - val_loss: 0.6183\n",
      "Epoch 10/20\n",
      "\u001B[1m98/98\u001B[0m \u001B[32m━━━━━━━━━━━━━━━━━━━━\u001B[0m\u001B[37m\u001B[0m \u001B[1m17s\u001B[0m 173ms/step - accuracy: 0.8675 - loss: 0.4258 - val_accuracy: 0.8186 - val_loss: 0.6147\n",
      "Epoch 11/20\n",
      "\u001B[1m98/98\u001B[0m \u001B[32m━━━━━━━━━━━━━━━━━━━━\u001B[0m\u001B[37m\u001B[0m \u001B[1m17s\u001B[0m 174ms/step - accuracy: 0.8744 - loss: 0.4039 - val_accuracy: 0.8209 - val_loss: 0.6107\n",
      "Epoch 12/20\n",
      "\u001B[1m98/98\u001B[0m \u001B[32m━━━━━━━━━━━━━━━━━━━━\u001B[0m\u001B[37m\u001B[0m \u001B[1m17s\u001B[0m 172ms/step - accuracy: 0.8810 - loss: 0.3827 - val_accuracy: 0.8173 - val_loss: 0.6248\n",
      "Epoch 13/20\n",
      "\u001B[1m98/98\u001B[0m \u001B[32m━━━━━━━━━━━━━━━━━━━━\u001B[0m\u001B[37m\u001B[0m \u001B[1m18s\u001B[0m 183ms/step - accuracy: 0.8859 - loss: 0.3642 - val_accuracy: 0.8183 - val_loss: 0.6191\n",
      "Epoch 14/20\n",
      "\u001B[1m98/98\u001B[0m \u001B[32m━━━━━━━━━━━━━━━━━━━━\u001B[0m\u001B[37m\u001B[0m \u001B[1m19s\u001B[0m 193ms/step - accuracy: 0.8918 - loss: 0.3453 - val_accuracy: 0.8212 - val_loss: 0.6180\n",
      "Epoch 15/20\n",
      "\u001B[1m98/98\u001B[0m \u001B[32m━━━━━━━━━━━━━━━━━━━━\u001B[0m\u001B[37m\u001B[0m \u001B[1m20s\u001B[0m 200ms/step - accuracy: 0.8969 - loss: 0.3278 - val_accuracy: 0.8199 - val_loss: 0.6275\n",
      "Epoch 16/20\n",
      "\u001B[1m98/98\u001B[0m \u001B[32m━━━━━━━━━━━━━━━━━━━━\u001B[0m\u001B[37m\u001B[0m \u001B[1m21s\u001B[0m 216ms/step - accuracy: 0.9021 - loss: 0.3120 - val_accuracy: 0.8172 - val_loss: 0.6380\n",
      "Epoch 17/20\n",
      "\u001B[1m98/98\u001B[0m \u001B[32m━━━━━━━━━━━━━━━━━━━━\u001B[0m\u001B[37m\u001B[0m \u001B[1m21s\u001B[0m 212ms/step - accuracy: 0.9061 - loss: 0.2991 - val_accuracy: 0.8181 - val_loss: 0.6359\n",
      "Epoch 18/20\n",
      "\u001B[1m98/98\u001B[0m \u001B[32m━━━━━━━━━━━━━━━━━━━━\u001B[0m\u001B[37m\u001B[0m \u001B[1m21s\u001B[0m 210ms/step - accuracy: 0.9101 - loss: 0.2849 - val_accuracy: 0.8133 - val_loss: 0.6540\n",
      "Epoch 19/20\n",
      "\u001B[1m98/98\u001B[0m \u001B[32m━━━━━━━━━━━━━━━━━━━━\u001B[0m\u001B[37m\u001B[0m \u001B[1m20s\u001B[0m 200ms/step - accuracy: 0.9137 - loss: 0.2737 - val_accuracy: 0.8185 - val_loss: 0.6498\n",
      "Epoch 20/20\n",
      "\u001B[1m98/98\u001B[0m \u001B[32m━━━━━━━━━━━━━━━━━━━━\u001B[0m\u001B[37m\u001B[0m \u001B[1m19s\u001B[0m 198ms/step - accuracy: 0.9175 - loss: 0.2612 - val_accuracy: 0.8177 - val_loss: 0.6570\n"
     ]
    },
    {
     "data": {
      "text/plain": [
       "<keras.src.callbacks.history.History at 0x17a773e00>"
      ]
     },
     "execution_count": 39,
     "metadata": {},
     "output_type": "execute_result"
    }
   ],
   "source": [
    "optimizer = Nadam(learning_rate=1e-3)\n",
    "model.compile(loss='sparse_categorical_crossentropy', optimizer=optimizer,  metrics=['accuracy'])\n",
    "model.fit(x_train, Y_train, epochs = 20, validation_data=[x_valid, y_valid], batch_size=batch_size)"
   ]
  },
  {
   "cell_type": "code",
   "execution_count": null,
   "id": "f03e96cc-fd48-41eb-a668-c61205e2866d",
   "metadata": {},
   "outputs": [],
   "source": [
    "def sample_next_note(probs):\n",
    "    probabilities = np.asarray(probs, dtype=float)\n",
    "    prob_sum = probabilities.sum()\n",
    "    if prob_sum <= 0 or not np.isfinite(prob_sum):\n",
    "        return int(np.argmax(probabilities))\n",
    "    probabilities /= prob_sum\n",
    "    return np.random.choice(len(probabilities), p=probabilities)"
   ]
  },
  {
   "cell_type": "code",
   "execution_count": null,
   "id": "5c34a180-5909-492c-b931-40338c5e9702",
   "metadata": {},
   "outputs": [],
   "source": [
    "def generate_chorale(mode, seed_chords, length):\n",
    "    token_sequence = np.array(seed_chords, dtype=int)\n",
    "    token_sequence = np.where(token_sequence == 0, 0, token_sequence - min_note +1)\n",
    "    token_sequence = token_sequence.reshape(1, -1)\n",
    "\n",
    "    for _ in range(length *4):\n",
    "        next_token_probabilities = model.predict(token_sequence)[0, -1]\n",
    "        next_token = sample_next_note(next_token_probabilities)\n",
    "        token_sequence = np.concatenate([token_sequence, [[next_token]]], axis=1)\n",
    "    token_sequence = np.where(token_sequence == 0, 0, token_sequence + min_note -1)\n",
    "    return token_sequence.reshape(-1, 4)"
   ]
  },
  {
   "cell_type": "code",
   "execution_count": null,
   "id": "c8af64ff-92c8-4290-b2a4-19460560a765",
   "metadata": {},
   "outputs": [
    {
     "data": {
      "text/html": [
       "\n",
       "        <div id=\"midiPlayerDiv3344\"></div>\n",
       "        <link rel=\"stylesheet\" href=\"https://cuthbertLab.github.io/music21j/css/m21.css\">\n",
       "        \n",
       "        <script\n",
       "        src=\"https://cdnjs.cloudflare.com/ajax/libs/require.js/2.3.6/require.min.js\"\n",
       "        ></script>\n",
       "    \n",
       "        <script>\n",
       "        function midiPlayerDiv3344_play() {\n",
       "            const rq = require.config({\n",
       "                paths: {\n",
       "                    'music21': 'https://cuthbertLab.github.io/music21j/releases/music21.debug',\n",
       "                }\n",
       "            });\n",
       "            rq(['music21'], function(music21) {\n",
       "                mp = new music21.miditools.MidiPlayer();\n",
       "                mp.addPlayer(\"#midiPlayerDiv3344\");\n",
       "                mp.base64Load(\"data:audio/midi;base64,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\");\n",
       "            });\n",
       "        }\n",
       "        if (typeof require === 'undefined') {\n",
       "            setTimeout(midiPlayerDiv3344_play, 2000);\n",
       "        } else {\n",
       "            midiPlayerDiv3344_play();\n",
       "        }\n",
       "        </script>"
      ],
      "text/plain": [
       "<IPython.core.display.HTML object>"
      ]
     },
     "metadata": {},
     "output_type": "display_data"
    }
   ],
   "source": [
    "seed_chords = test_data[3]\n",
    "\n",
    "chorale = seed_chords\n",
    "s = stream.Stream()\n",
    "for row in chorale:\n",
    "    s.append(chord.Chord([n for n in row if n], quaterLength=1))\n",
    "s.show('midi')"
   ]
  },
  {
   "cell_type": "code",
   "execution_count": null,
   "id": "8a1c56b4-adb4-48de-aac0-cb72ff3fb867",
   "metadata": {},
   "outputs": [
    {
     "name": "stdout",
     "output_type": "stream",
     "text": [
      "\u001B[1m1/1\u001B[0m \u001B[32m━━━━━━━━━━━━━━━━━━━━\u001B[0m\u001B[37m\u001B[0m \u001B[1m0s\u001B[0m 87ms/step\n",
      "\u001B[1m1/1\u001B[0m \u001B[32m━━━━━━━━━━━━━━━━━━━━\u001B[0m\u001B[37m\u001B[0m \u001B[1m0s\u001B[0m 28ms/step\n",
      "\u001B[1m1/1\u001B[0m \u001B[32m━━━━━━━━━━━━━━━━━━━━\u001B[0m\u001B[37m\u001B[0m \u001B[1m0s\u001B[0m 22ms/step\n",
      "\u001B[1m1/1\u001B[0m \u001B[32m━━━━━━━━━━━━━━━━━━━━\u001B[0m\u001B[37m\u001B[0m \u001B[1m0s\u001B[0m 21ms/step\n",
      "\u001B[1m1/1\u001B[0m \u001B[32m━━━━━━━━━━━━━━━━━━━━\u001B[0m\u001B[37m\u001B[0m \u001B[1m0s\u001B[0m 22ms/step\n",
      "\u001B[1m1/1\u001B[0m \u001B[32m━━━━━━━━━━━━━━━━━━━━\u001B[0m\u001B[37m\u001B[0m \u001B[1m0s\u001B[0m 22ms/step\n",
      "\u001B[1m1/1\u001B[0m \u001B[32m━━━━━━━━━━━━━━━━━━━━\u001B[0m\u001B[37m\u001B[0m \u001B[1m0s\u001B[0m 22ms/step\n",
      "\u001B[1m1/1\u001B[0m \u001B[32m━━━━━━━━━━━━━━━━━━━━\u001B[0m\u001B[37m\u001B[0m \u001B[1m0s\u001B[0m 21ms/step\n",
      "\u001B[1m1/1\u001B[0m \u001B[32m━━━━━━━━━━━━━━━━━━━━\u001B[0m\u001B[37m\u001B[0m \u001B[1m0s\u001B[0m 23ms/step\n",
      "\u001B[1m1/1\u001B[0m \u001B[32m━━━━━━━━━━━━━━━━━━━━\u001B[0m\u001B[37m\u001B[0m \u001B[1m0s\u001B[0m 22ms/step\n",
      "\u001B[1m1/1\u001B[0m \u001B[32m━━━━━━━━━━━━━━━━━━━━\u001B[0m\u001B[37m\u001B[0m \u001B[1m0s\u001B[0m 23ms/step\n",
      "\u001B[1m1/1\u001B[0m \u001B[32m━━━━━━━━━━━━━━━━━━━━\u001B[0m\u001B[37m\u001B[0m \u001B[1m0s\u001B[0m 22ms/step\n",
      "\u001B[1m1/1\u001B[0m \u001B[32m━━━━━━━━━━━━━━━━━━━━\u001B[0m\u001B[37m\u001B[0m \u001B[1m0s\u001B[0m 22ms/step\n",
      "\u001B[1m1/1\u001B[0m \u001B[32m━━━━━━━━━━━━━━━━━━━━\u001B[0m\u001B[37m\u001B[0m \u001B[1m0s\u001B[0m 23ms/step\n",
      "\u001B[1m1/1\u001B[0m \u001B[32m━━━━━━━━━━━━━━━━━━━━\u001B[0m\u001B[37m\u001B[0m \u001B[1m0s\u001B[0m 21ms/step\n",
      "\u001B[1m1/1\u001B[0m \u001B[32m━━━━━━━━━━━━━━━━━━━━\u001B[0m\u001B[37m\u001B[0m \u001B[1m0s\u001B[0m 22ms/step\n",
      "\u001B[1m1/1\u001B[0m \u001B[32m━━━━━━━━━━━━━━━━━━━━\u001B[0m\u001B[37m\u001B[0m \u001B[1m0s\u001B[0m 22ms/step\n",
      "\u001B[1m1/1\u001B[0m \u001B[32m━━━━━━━━━━━━━━━━━━━━\u001B[0m\u001B[37m\u001B[0m \u001B[1m0s\u001B[0m 24ms/step\n",
      "\u001B[1m1/1\u001B[0m \u001B[32m━━━━━━━━━━━━━━━━━━━━\u001B[0m\u001B[37m\u001B[0m \u001B[1m0s\u001B[0m 28ms/step\n",
      "\u001B[1m1/1\u001B[0m \u001B[32m━━━━━━━━━━━━━━━━━━━━\u001B[0m\u001B[37m\u001B[0m \u001B[1m0s\u001B[0m 26ms/step\n",
      "\u001B[1m1/1\u001B[0m \u001B[32m━━━━━━━━━━━━━━━━━━━━\u001B[0m\u001B[37m\u001B[0m \u001B[1m0s\u001B[0m 26ms/step\n",
      "\u001B[1m1/1\u001B[0m \u001B[32m━━━━━━━━━━━━━━━━━━━━\u001B[0m\u001B[37m\u001B[0m \u001B[1m0s\u001B[0m 23ms/step\n",
      "\u001B[1m1/1\u001B[0m \u001B[32m━━━━━━━━━━━━━━━━━━━━\u001B[0m\u001B[37m\u001B[0m \u001B[1m0s\u001B[0m 22ms/step\n",
      "\u001B[1m1/1\u001B[0m \u001B[32m━━━━━━━━━━━━━━━━━━━━\u001B[0m\u001B[37m\u001B[0m \u001B[1m0s\u001B[0m 23ms/step\n",
      "\u001B[1m1/1\u001B[0m \u001B[32m━━━━━━━━━━━━━━━━━━━━\u001B[0m\u001B[37m\u001B[0m \u001B[1m0s\u001B[0m 23ms/step\n",
      "\u001B[1m1/1\u001B[0m \u001B[32m━━━━━━━━━━━━━━━━━━━━\u001B[0m\u001B[37m\u001B[0m \u001B[1m0s\u001B[0m 24ms/step\n",
      "\u001B[1m1/1\u001B[0m \u001B[32m━━━━━━━━━━━━━━━━━━━━\u001B[0m\u001B[37m\u001B[0m \u001B[1m0s\u001B[0m 24ms/step\n",
      "\u001B[1m1/1\u001B[0m \u001B[32m━━━━━━━━━━━━━━━━━━━━\u001B[0m\u001B[37m\u001B[0m \u001B[1m0s\u001B[0m 22ms/step\n",
      "\u001B[1m1/1\u001B[0m \u001B[32m━━━━━━━━━━━━━━━━━━━━\u001B[0m\u001B[37m\u001B[0m \u001B[1m0s\u001B[0m 24ms/step\n",
      "\u001B[1m1/1\u001B[0m \u001B[32m━━━━━━━━━━━━━━━━━━━━\u001B[0m\u001B[37m\u001B[0m \u001B[1m0s\u001B[0m 25ms/step\n",
      "\u001B[1m1/1\u001B[0m \u001B[32m━━━━━━━━━━━━━━━━━━━━\u001B[0m\u001B[37m\u001B[0m \u001B[1m0s\u001B[0m 25ms/step\n",
      "\u001B[1m1/1\u001B[0m \u001B[32m━━━━━━━━━━━━━━━━━━━━\u001B[0m\u001B[37m\u001B[0m \u001B[1m0s\u001B[0m 24ms/step\n",
      "\u001B[1m1/1\u001B[0m \u001B[32m━━━━━━━━━━━━━━━━━━━━\u001B[0m\u001B[37m\u001B[0m \u001B[1m0s\u001B[0m 24ms/step\n",
      "\u001B[1m1/1\u001B[0m \u001B[32m━━━━━━━━━━━━━━━━━━━━\u001B[0m\u001B[37m\u001B[0m \u001B[1m0s\u001B[0m 25ms/step\n",
      "\u001B[1m1/1\u001B[0m \u001B[32m━━━━━━━━━━━━━━━━━━━━\u001B[0m\u001B[37m\u001B[0m \u001B[1m0s\u001B[0m 25ms/step\n",
      "\u001B[1m1/1\u001B[0m \u001B[32m━━━━━━━━━━━━━━━━━━━━\u001B[0m\u001B[37m\u001B[0m \u001B[1m0s\u001B[0m 24ms/step\n",
      "\u001B[1m1/1\u001B[0m \u001B[32m━━━━━━━━━━━━━━━━━━━━\u001B[0m\u001B[37m\u001B[0m \u001B[1m0s\u001B[0m 25ms/step\n",
      "\u001B[1m1/1\u001B[0m \u001B[32m━━━━━━━━━━━━━━━━━━━━\u001B[0m\u001B[37m\u001B[0m \u001B[1m0s\u001B[0m 24ms/step\n",
      "\u001B[1m1/1\u001B[0m \u001B[32m━━━━━━━━━━━━━━━━━━━━\u001B[0m\u001B[37m\u001B[0m \u001B[1m0s\u001B[0m 25ms/step\n",
      "\u001B[1m1/1\u001B[0m \u001B[32m━━━━━━━━━━━━━━━━━━━━\u001B[0m\u001B[37m\u001B[0m \u001B[1m0s\u001B[0m 26ms/step\n",
      "\u001B[1m1/1\u001B[0m \u001B[32m━━━━━━━━━━━━━━━━━━━━\u001B[0m\u001B[37m\u001B[0m \u001B[1m0s\u001B[0m 24ms/step\n",
      "\u001B[1m1/1\u001B[0m \u001B[32m━━━━━━━━━━━━━━━━━━━━\u001B[0m\u001B[37m\u001B[0m \u001B[1m0s\u001B[0m 25ms/step\n",
      "\u001B[1m1/1\u001B[0m \u001B[32m━━━━━━━━━━━━━━━━━━━━\u001B[0m\u001B[37m\u001B[0m \u001B[1m0s\u001B[0m 27ms/step\n",
      "\u001B[1m1/1\u001B[0m \u001B[32m━━━━━━━━━━━━━━━━━━━━\u001B[0m\u001B[37m\u001B[0m \u001B[1m0s\u001B[0m 25ms/step\n",
      "\u001B[1m1/1\u001B[0m \u001B[32m━━━━━━━━━━━━━━━━━━━━\u001B[0m\u001B[37m\u001B[0m \u001B[1m0s\u001B[0m 26ms/step\n",
      "\u001B[1m1/1\u001B[0m \u001B[32m━━━━━━━━━━━━━━━━━━━━\u001B[0m\u001B[37m\u001B[0m \u001B[1m0s\u001B[0m 26ms/step\n",
      "\u001B[1m1/1\u001B[0m \u001B[32m━━━━━━━━━━━━━━━━━━━━\u001B[0m\u001B[37m\u001B[0m \u001B[1m0s\u001B[0m 26ms/step\n",
      "\u001B[1m1/1\u001B[0m \u001B[32m━━━━━━━━━━━━━━━━━━━━\u001B[0m\u001B[37m\u001B[0m \u001B[1m0s\u001B[0m 25ms/step\n",
      "\u001B[1m1/1\u001B[0m \u001B[32m━━━━━━━━━━━━━━━━━━━━\u001B[0m\u001B[37m\u001B[0m \u001B[1m0s\u001B[0m 26ms/step\n",
      "\u001B[1m1/1\u001B[0m \u001B[32m━━━━━━━━━━━━━━━━━━━━\u001B[0m\u001B[37m\u001B[0m \u001B[1m0s\u001B[0m 25ms/step\n",
      "\u001B[1m1/1\u001B[0m \u001B[32m━━━━━━━━━━━━━━━━━━━━\u001B[0m\u001B[37m\u001B[0m \u001B[1m0s\u001B[0m 27ms/step\n",
      "\u001B[1m1/1\u001B[0m \u001B[32m━━━━━━━━━━━━━━━━━━━━\u001B[0m\u001B[37m\u001B[0m \u001B[1m0s\u001B[0m 26ms/step\n",
      "\u001B[1m1/1\u001B[0m \u001B[32m━━━━━━━━━━━━━━━━━━━━\u001B[0m\u001B[37m\u001B[0m \u001B[1m0s\u001B[0m 25ms/step\n",
      "\u001B[1m1/1\u001B[0m \u001B[32m━━━━━━━━━━━━━━━━━━━━\u001B[0m\u001B[37m\u001B[0m \u001B[1m0s\u001B[0m 46ms/step\n",
      "\u001B[1m1/1\u001B[0m \u001B[32m━━━━━━━━━━━━━━━━━━━━\u001B[0m\u001B[37m\u001B[0m \u001B[1m0s\u001B[0m 26ms/step\n",
      "\u001B[1m1/1\u001B[0m \u001B[32m━━━━━━━━━━━━━━━━━━━━\u001B[0m\u001B[37m\u001B[0m \u001B[1m0s\u001B[0m 27ms/step\n",
      "\u001B[1m1/1\u001B[0m \u001B[32m━━━━━━━━━━━━━━━━━━━━\u001B[0m\u001B[37m\u001B[0m \u001B[1m0s\u001B[0m 29ms/step\n",
      "\u001B[1m1/1\u001B[0m \u001B[32m━━━━━━━━━━━━━━━━━━━━\u001B[0m\u001B[37m\u001B[0m \u001B[1m0s\u001B[0m 26ms/step\n",
      "\u001B[1m1/1\u001B[0m \u001B[32m━━━━━━━━━━━━━━━━━━━━\u001B[0m\u001B[37m\u001B[0m \u001B[1m0s\u001B[0m 26ms/step\n",
      "\u001B[1m1/1\u001B[0m \u001B[32m━━━━━━━━━━━━━━━━━━━━\u001B[0m\u001B[37m\u001B[0m \u001B[1m0s\u001B[0m 29ms/step\n",
      "\u001B[1m1/1\u001B[0m \u001B[32m━━━━━━━━━━━━━━━━━━━━\u001B[0m\u001B[37m\u001B[0m \u001B[1m0s\u001B[0m 26ms/step\n",
      "\u001B[1m1/1\u001B[0m \u001B[32m━━━━━━━━━━━━━━━━━━━━\u001B[0m\u001B[37m\u001B[0m \u001B[1m0s\u001B[0m 26ms/step\n",
      "\u001B[1m1/1\u001B[0m \u001B[32m━━━━━━━━━━━━━━━━━━━━\u001B[0m\u001B[37m\u001B[0m \u001B[1m0s\u001B[0m 27ms/step\n",
      "\u001B[1m1/1\u001B[0m \u001B[32m━━━━━━━━━━━━━━━━━━━━\u001B[0m\u001B[37m\u001B[0m \u001B[1m0s\u001B[0m 26ms/step\n",
      "\u001B[1m1/1\u001B[0m \u001B[32m━━━━━━━━━━━━━━━━━━━━\u001B[0m\u001B[37m\u001B[0m \u001B[1m0s\u001B[0m 27ms/step\n",
      "\u001B[1m1/1\u001B[0m \u001B[32m━━━━━━━━━━━━━━━━━━━━\u001B[0m\u001B[37m\u001B[0m \u001B[1m0s\u001B[0m 27ms/step\n",
      "\u001B[1m1/1\u001B[0m \u001B[32m━━━━━━━━━━━━━━━━━━━━\u001B[0m\u001B[37m\u001B[0m \u001B[1m0s\u001B[0m 27ms/step\n",
      "\u001B[1m1/1\u001B[0m \u001B[32m━━━━━━━━━━━━━━━━━━━━\u001B[0m\u001B[37m\u001B[0m \u001B[1m0s\u001B[0m 27ms/step\n",
      "\u001B[1m1/1\u001B[0m \u001B[32m━━━━━━━━━━━━━━━━━━━━\u001B[0m\u001B[37m\u001B[0m \u001B[1m0s\u001B[0m 27ms/step\n",
      "\u001B[1m1/1\u001B[0m \u001B[32m━━━━━━━━━━━━━━━━━━━━\u001B[0m\u001B[37m\u001B[0m \u001B[1m0s\u001B[0m 27ms/step\n",
      "\u001B[1m1/1\u001B[0m \u001B[32m━━━━━━━━━━━━━━━━━━━━\u001B[0m\u001B[37m\u001B[0m \u001B[1m0s\u001B[0m 27ms/step\n",
      "\u001B[1m1/1\u001B[0m \u001B[32m━━━━━━━━━━━━━━━━━━━━\u001B[0m\u001B[37m\u001B[0m \u001B[1m0s\u001B[0m 27ms/step\n",
      "\u001B[1m1/1\u001B[0m \u001B[32m━━━━━━━━━━━━━━━━━━━━\u001B[0m\u001B[37m\u001B[0m \u001B[1m0s\u001B[0m 29ms/step\n",
      "\u001B[1m1/1\u001B[0m \u001B[32m━━━━━━━━━━━━━━━━━━━━\u001B[0m\u001B[37m\u001B[0m \u001B[1m0s\u001B[0m 29ms/step\n",
      "\u001B[1m1/1\u001B[0m \u001B[32m━━━━━━━━━━━━━━━━━━━━\u001B[0m\u001B[37m\u001B[0m \u001B[1m0s\u001B[0m 37ms/step\n",
      "\u001B[1m1/1\u001B[0m \u001B[32m━━━━━━━━━━━━━━━━━━━━\u001B[0m\u001B[37m\u001B[0m \u001B[1m0s\u001B[0m 28ms/step\n",
      "\u001B[1m1/1\u001B[0m \u001B[32m━━━━━━━━━━━━━━━━━━━━\u001B[0m\u001B[37m\u001B[0m \u001B[1m0s\u001B[0m 36ms/step\n",
      "\u001B[1m1/1\u001B[0m \u001B[32m━━━━━━━━━━━━━━━━━━━━\u001B[0m\u001B[37m\u001B[0m \u001B[1m0s\u001B[0m 28ms/step\n",
      "\u001B[1m1/1\u001B[0m \u001B[32m━━━━━━━━━━━━━━━━━━━━\u001B[0m\u001B[37m\u001B[0m \u001B[1m0s\u001B[0m 27ms/step\n",
      "\u001B[1m1/1\u001B[0m \u001B[32m━━━━━━━━━━━━━━━━━━━━\u001B[0m\u001B[37m\u001B[0m \u001B[1m0s\u001B[0m 27ms/step\n",
      "\u001B[1m1/1\u001B[0m \u001B[32m━━━━━━━━━━━━━━━━━━━━\u001B[0m\u001B[37m\u001B[0m \u001B[1m0s\u001B[0m 30ms/step\n",
      "\u001B[1m1/1\u001B[0m \u001B[32m━━━━━━━━━━━━━━━━━━━━\u001B[0m\u001B[37m\u001B[0m \u001B[1m0s\u001B[0m 29ms/step\n",
      "\u001B[1m1/1\u001B[0m \u001B[32m━━━━━━━━━━━━━━━━━━━━\u001B[0m\u001B[37m\u001B[0m \u001B[1m0s\u001B[0m 28ms/step\n",
      "\u001B[1m1/1\u001B[0m \u001B[32m━━━━━━━━━━━━━━━━━━━━\u001B[0m\u001B[37m\u001B[0m \u001B[1m0s\u001B[0m 28ms/step\n",
      "\u001B[1m1/1\u001B[0m \u001B[32m━━━━━━━━━━━━━━━━━━━━\u001B[0m\u001B[37m\u001B[0m \u001B[1m0s\u001B[0m 28ms/step\n",
      "\u001B[1m1/1\u001B[0m \u001B[32m━━━━━━━━━━━━━━━━━━━━\u001B[0m\u001B[37m\u001B[0m \u001B[1m0s\u001B[0m 28ms/step\n",
      "\u001B[1m1/1\u001B[0m \u001B[32m━━━━━━━━━━━━━━━━━━━━\u001B[0m\u001B[37m\u001B[0m \u001B[1m0s\u001B[0m 29ms/step\n",
      "\u001B[1m1/1\u001B[0m \u001B[32m━━━━━━━━━━━━━━━━━━━━\u001B[0m\u001B[37m\u001B[0m \u001B[1m0s\u001B[0m 29ms/step\n",
      "\u001B[1m1/1\u001B[0m \u001B[32m━━━━━━━━━━━━━━━━━━━━\u001B[0m\u001B[37m\u001B[0m \u001B[1m0s\u001B[0m 29ms/step\n",
      "\u001B[1m1/1\u001B[0m \u001B[32m━━━━━━━━━━━━━━━━━━━━\u001B[0m\u001B[37m\u001B[0m \u001B[1m0s\u001B[0m 29ms/step\n",
      "\u001B[1m1/1\u001B[0m \u001B[32m━━━━━━━━━━━━━━━━━━━━\u001B[0m\u001B[37m\u001B[0m \u001B[1m0s\u001B[0m 30ms/step\n",
      "\u001B[1m1/1\u001B[0m \u001B[32m━━━━━━━━━━━━━━━━━━━━\u001B[0m\u001B[37m\u001B[0m \u001B[1m0s\u001B[0m 71ms/step\n",
      "\u001B[1m1/1\u001B[0m \u001B[32m━━━━━━━━━━━━━━━━━━━━\u001B[0m\u001B[37m\u001B[0m \u001B[1m0s\u001B[0m 29ms/step\n",
      "\u001B[1m1/1\u001B[0m \u001B[32m━━━━━━━━━━━━━━━━━━━━\u001B[0m\u001B[37m\u001B[0m \u001B[1m0s\u001B[0m 29ms/step\n",
      "\u001B[1m1/1\u001B[0m \u001B[32m━━━━━━━━━━━━━━━━━━━━\u001B[0m\u001B[37m\u001B[0m \u001B[1m0s\u001B[0m 29ms/step\n",
      "\u001B[1m1/1\u001B[0m \u001B[32m━━━━━━━━━━━━━━━━━━━━\u001B[0m\u001B[37m\u001B[0m \u001B[1m0s\u001B[0m 30ms/step\n",
      "\u001B[1m1/1\u001B[0m \u001B[32m━━━━━━━━━━━━━━━━━━━━\u001B[0m\u001B[37m\u001B[0m \u001B[1m0s\u001B[0m 29ms/step\n",
      "\u001B[1m1/1\u001B[0m \u001B[32m━━━━━━━━━━━━━━━━━━━━\u001B[0m\u001B[37m\u001B[0m \u001B[1m0s\u001B[0m 29ms/step\n",
      "\u001B[1m1/1\u001B[0m \u001B[32m━━━━━━━━━━━━━━━━━━━━\u001B[0m\u001B[37m\u001B[0m \u001B[1m0s\u001B[0m 31ms/step\n",
      "\u001B[1m1/1\u001B[0m \u001B[32m━━━━━━━━━━━━━━━━━━━━\u001B[0m\u001B[37m\u001B[0m \u001B[1m0s\u001B[0m 29ms/step\n",
      "\u001B[1m1/1\u001B[0m \u001B[32m━━━━━━━━━━━━━━━━━━━━\u001B[0m\u001B[37m\u001B[0m \u001B[1m0s\u001B[0m 30ms/step\n",
      "\u001B[1m1/1\u001B[0m \u001B[32m━━━━━━━━━━━━━━━━━━━━\u001B[0m\u001B[37m\u001B[0m \u001B[1m0s\u001B[0m 30ms/step\n",
      "\u001B[1m1/1\u001B[0m \u001B[32m━━━━━━━━━━━━━━━━━━━━\u001B[0m\u001B[37m\u001B[0m \u001B[1m0s\u001B[0m 38ms/step\n",
      "\u001B[1m1/1\u001B[0m \u001B[32m━━━━━━━━━━━━━━━━━━━━\u001B[0m\u001B[37m\u001B[0m \u001B[1m0s\u001B[0m 37ms/step\n",
      "\u001B[1m1/1\u001B[0m \u001B[32m━━━━━━━━━━━━━━━━━━━━\u001B[0m\u001B[37m\u001B[0m \u001B[1m0s\u001B[0m 33ms/step\n",
      "\u001B[1m1/1\u001B[0m \u001B[32m━━━━━━━━━━━━━━━━━━━━\u001B[0m\u001B[37m\u001B[0m \u001B[1m0s\u001B[0m 30ms/step\n",
      "\u001B[1m1/1\u001B[0m \u001B[32m━━━━━━━━━━━━━━━━━━━━\u001B[0m\u001B[37m\u001B[0m \u001B[1m0s\u001B[0m 30ms/step\n",
      "\u001B[1m1/1\u001B[0m \u001B[32m━━━━━━━━━━━━━━━━━━━━\u001B[0m\u001B[37m\u001B[0m \u001B[1m0s\u001B[0m 32ms/step\n",
      "\u001B[1m1/1\u001B[0m \u001B[32m━━━━━━━━━━━━━━━━━━━━\u001B[0m\u001B[37m\u001B[0m \u001B[1m0s\u001B[0m 30ms/step\n",
      "\u001B[1m1/1\u001B[0m \u001B[32m━━━━━━━━━━━━━━━━━━━━\u001B[0m\u001B[37m\u001B[0m \u001B[1m0s\u001B[0m 32ms/step\n",
      "\u001B[1m1/1\u001B[0m \u001B[32m━━━━━━━━━━━━━━━━━━━━\u001B[0m\u001B[37m\u001B[0m \u001B[1m0s\u001B[0m 33ms/step\n",
      "\u001B[1m1/1\u001B[0m \u001B[32m━━━━━━━━━━━━━━━━━━━━\u001B[0m\u001B[37m\u001B[0m \u001B[1m0s\u001B[0m 37ms/step\n",
      "\u001B[1m1/1\u001B[0m \u001B[32m━━━━━━━━━━━━━━━━━━━━\u001B[0m\u001B[37m\u001B[0m \u001B[1m0s\u001B[0m 34ms/step\n",
      "\u001B[1m1/1\u001B[0m \u001B[32m━━━━━━━━━━━━━━━━━━━━\u001B[0m\u001B[37m\u001B[0m \u001B[1m0s\u001B[0m 32ms/step\n",
      "\u001B[1m1/1\u001B[0m \u001B[32m━━━━━━━━━━━━━━━━━━━━\u001B[0m\u001B[37m\u001B[0m \u001B[1m0s\u001B[0m 35ms/step\n",
      "\u001B[1m1/1\u001B[0m \u001B[32m━━━━━━━━━━━━━━━━━━━━\u001B[0m\u001B[37m\u001B[0m \u001B[1m0s\u001B[0m 36ms/step\n",
      "\u001B[1m1/1\u001B[0m \u001B[32m━━━━━━━━━━━━━━━━━━━━\u001B[0m\u001B[37m\u001B[0m \u001B[1m0s\u001B[0m 35ms/step\n",
      "\u001B[1m1/1\u001B[0m \u001B[32m━━━━━━━━━━━━━━━━━━━━\u001B[0m\u001B[37m\u001B[0m \u001B[1m0s\u001B[0m 77ms/step\n",
      "\u001B[1m1/1\u001B[0m \u001B[32m━━━━━━━━━━━━━━━━━━━━\u001B[0m\u001B[37m\u001B[0m \u001B[1m0s\u001B[0m 36ms/step\n",
      "\u001B[1m1/1\u001B[0m \u001B[32m━━━━━━━━━━━━━━━━━━━━\u001B[0m\u001B[37m\u001B[0m \u001B[1m0s\u001B[0m 35ms/step\n",
      "\u001B[1m1/1\u001B[0m \u001B[32m━━━━━━━━━━━━━━━━━━━━\u001B[0m\u001B[37m\u001B[0m \u001B[1m0s\u001B[0m 36ms/step\n",
      "\u001B[1m1/1\u001B[0m \u001B[32m━━━━━━━━━━━━━━━━━━━━\u001B[0m\u001B[37m\u001B[0m \u001B[1m0s\u001B[0m 36ms/step\n",
      "\u001B[1m1/1\u001B[0m \u001B[32m━━━━━━━━━━━━━━━━━━━━\u001B[0m\u001B[37m\u001B[0m \u001B[1m0s\u001B[0m 37ms/step\n",
      "\u001B[1m1/1\u001B[0m \u001B[32m━━━━━━━━━━━━━━━━━━━━\u001B[0m\u001B[37m\u001B[0m \u001B[1m0s\u001B[0m 39ms/step\n",
      "\u001B[1m1/1\u001B[0m \u001B[32m━━━━━━━━━━━━━━━━━━━━\u001B[0m\u001B[37m\u001B[0m \u001B[1m0s\u001B[0m 36ms/step\n",
      "\u001B[1m1/1\u001B[0m \u001B[32m━━━━━━━━━━━━━━━━━━━━\u001B[0m\u001B[37m\u001B[0m \u001B[1m0s\u001B[0m 38ms/step\n",
      "\u001B[1m1/1\u001B[0m \u001B[32m━━━━━━━━━━━━━━━━━━━━\u001B[0m\u001B[37m\u001B[0m \u001B[1m0s\u001B[0m 36ms/step\n",
      "\u001B[1m1/1\u001B[0m \u001B[32m━━━━━━━━━━━━━━━━━━━━\u001B[0m\u001B[37m\u001B[0m \u001B[1m0s\u001B[0m 40ms/step\n",
      "\u001B[1m1/1\u001B[0m \u001B[32m━━━━━━━━━━━━━━━━━━━━\u001B[0m\u001B[37m\u001B[0m \u001B[1m0s\u001B[0m 41ms/step\n",
      "\u001B[1m1/1\u001B[0m \u001B[32m━━━━━━━━━━━━━━━━━━━━\u001B[0m\u001B[37m\u001B[0m \u001B[1m0s\u001B[0m 37ms/step\n",
      "\u001B[1m1/1\u001B[0m \u001B[32m━━━━━━━━━━━━━━━━━━━━\u001B[0m\u001B[37m\u001B[0m \u001B[1m0s\u001B[0m 38ms/step\n",
      "\u001B[1m1/1\u001B[0m \u001B[32m━━━━━━━━━━━━━━━━━━━━\u001B[0m\u001B[37m\u001B[0m \u001B[1m0s\u001B[0m 34ms/step\n",
      "\u001B[1m1/1\u001B[0m \u001B[32m━━━━━━━━━━━━━━━━━━━━\u001B[0m\u001B[37m\u001B[0m \u001B[1m0s\u001B[0m 34ms/step\n",
      "\u001B[1m1/1\u001B[0m \u001B[32m━━━━━━━━━━━━━━━━━━━━\u001B[0m\u001B[37m\u001B[0m \u001B[1m0s\u001B[0m 91ms/step\n",
      "\u001B[1m1/1\u001B[0m \u001B[32m━━━━━━━━━━━━━━━━━━━━\u001B[0m\u001B[37m\u001B[0m \u001B[1m0s\u001B[0m 38ms/step\n",
      "\u001B[1m1/1\u001B[0m \u001B[32m━━━━━━━━━━━━━━━━━━━━\u001B[0m\u001B[37m\u001B[0m \u001B[1m0s\u001B[0m 39ms/step\n",
      "\u001B[1m1/1\u001B[0m \u001B[32m━━━━━━━━━━━━━━━━━━━━\u001B[0m\u001B[37m\u001B[0m \u001B[1m0s\u001B[0m 40ms/step\n",
      "\u001B[1m1/1\u001B[0m \u001B[32m━━━━━━━━━━━━━━━━━━━━\u001B[0m\u001B[37m\u001B[0m \u001B[1m0s\u001B[0m 39ms/step\n",
      "\u001B[1m1/1\u001B[0m \u001B[32m━━━━━━━━━━━━━━━━━━━━\u001B[0m\u001B[37m\u001B[0m \u001B[1m0s\u001B[0m 40ms/step\n",
      "\u001B[1m1/1\u001B[0m \u001B[32m━━━━━━━━━━━━━━━━━━━━\u001B[0m\u001B[37m\u001B[0m \u001B[1m0s\u001B[0m 41ms/step\n",
      "\u001B[1m1/1\u001B[0m \u001B[32m━━━━━━━━━━━━━━━━━━━━\u001B[0m\u001B[37m\u001B[0m \u001B[1m0s\u001B[0m 40ms/step\n",
      "\u001B[1m1/1\u001B[0m \u001B[32m━━━━━━━━━━━━━━━━━━━━\u001B[0m\u001B[37m\u001B[0m \u001B[1m0s\u001B[0m 40ms/step\n",
      "\u001B[1m1/1\u001B[0m \u001B[32m━━━━━━━━━━━━━━━━━━━━\u001B[0m\u001B[37m\u001B[0m \u001B[1m0s\u001B[0m 40ms/step\n",
      "\u001B[1m1/1\u001B[0m \u001B[32m━━━━━━━━━━━━━━━━━━━━\u001B[0m\u001B[37m\u001B[0m \u001B[1m0s\u001B[0m 39ms/step\n",
      "\u001B[1m1/1\u001B[0m \u001B[32m━━━━━━━━━━━━━━━━━━━━\u001B[0m\u001B[37m\u001B[0m \u001B[1m0s\u001B[0m 39ms/step\n",
      "\u001B[1m1/1\u001B[0m \u001B[32m━━━━━━━━━━━━━━━━━━━━\u001B[0m\u001B[37m\u001B[0m \u001B[1m0s\u001B[0m 38ms/step\n",
      "\u001B[1m1/1\u001B[0m \u001B[32m━━━━━━━━━━━━━━━━━━━━\u001B[0m\u001B[37m\u001B[0m \u001B[1m0s\u001B[0m 38ms/step\n",
      "\u001B[1m1/1\u001B[0m \u001B[32m━━━━━━━━━━━━━━━━━━━━\u001B[0m\u001B[37m\u001B[0m \u001B[1m0s\u001B[0m 37ms/step\n",
      "\u001B[1m1/1\u001B[0m \u001B[32m━━━━━━━━━━━━━━━━━━━━\u001B[0m\u001B[37m\u001B[0m \u001B[1m0s\u001B[0m 97ms/step\n",
      "\u001B[1m1/1\u001B[0m \u001B[32m━━━━━━━━━━━━━━━━━━━━\u001B[0m\u001B[37m\u001B[0m \u001B[1m0s\u001B[0m 40ms/step\n",
      "\u001B[1m1/1\u001B[0m \u001B[32m━━━━━━━━━━━━━━━━━━━━\u001B[0m\u001B[37m\u001B[0m \u001B[1m0s\u001B[0m 40ms/step\n",
      "\u001B[1m1/1\u001B[0m \u001B[32m━━━━━━━━━━━━━━━━━━━━\u001B[0m\u001B[37m\u001B[0m \u001B[1m0s\u001B[0m 45ms/step\n",
      "\u001B[1m1/1\u001B[0m \u001B[32m━━━━━━━━━━━━━━━━━━━━\u001B[0m\u001B[37m\u001B[0m \u001B[1m0s\u001B[0m 52ms/step\n",
      "\u001B[1m1/1\u001B[0m \u001B[32m━━━━━━━━━━━━━━━━━━━━\u001B[0m\u001B[37m\u001B[0m \u001B[1m0s\u001B[0m 45ms/step\n",
      "\u001B[1m1/1\u001B[0m \u001B[32m━━━━━━━━━━━━━━━━━━━━\u001B[0m\u001B[37m\u001B[0m \u001B[1m0s\u001B[0m 41ms/step\n",
      "\u001B[1m1/1\u001B[0m \u001B[32m━━━━━━━━━━━━━━━━━━━━\u001B[0m\u001B[37m\u001B[0m \u001B[1m0s\u001B[0m 43ms/step\n",
      "\u001B[1m1/1\u001B[0m \u001B[32m━━━━━━━━━━━━━━━━━━━━\u001B[0m\u001B[37m\u001B[0m \u001B[1m0s\u001B[0m 45ms/step\n",
      "\u001B[1m1/1\u001B[0m \u001B[32m━━━━━━━━━━━━━━━━━━━━\u001B[0m\u001B[37m\u001B[0m \u001B[1m0s\u001B[0m 43ms/step\n",
      "\u001B[1m1/1\u001B[0m \u001B[32m━━━━━━━━━━━━━━━━━━━━\u001B[0m\u001B[37m\u001B[0m \u001B[1m0s\u001B[0m 43ms/step\n",
      "\u001B[1m1/1\u001B[0m \u001B[32m━━━━━━━━━━━━━━━━━━━━\u001B[0m\u001B[37m\u001B[0m \u001B[1m0s\u001B[0m 41ms/step\n",
      "\u001B[1m1/1\u001B[0m \u001B[32m━━━━━━━━━━━━━━━━━━━━\u001B[0m\u001B[37m\u001B[0m \u001B[1m0s\u001B[0m 48ms/step\n",
      "\u001B[1m1/1\u001B[0m \u001B[32m━━━━━━━━━━━━━━━━━━━━\u001B[0m\u001B[37m\u001B[0m \u001B[1m0s\u001B[0m 111ms/step\n",
      "\u001B[1m1/1\u001B[0m \u001B[32m━━━━━━━━━━━━━━━━━━━━\u001B[0m\u001B[37m\u001B[0m \u001B[1m0s\u001B[0m 64ms/step\n",
      "\u001B[1m1/1\u001B[0m \u001B[32m━━━━━━━━━━━━━━━━━━━━\u001B[0m\u001B[37m\u001B[0m \u001B[1m0s\u001B[0m 43ms/step\n",
      "\u001B[1m1/1\u001B[0m \u001B[32m━━━━━━━━━━━━━━━━━━━━\u001B[0m\u001B[37m\u001B[0m \u001B[1m0s\u001B[0m 42ms/step\n",
      "\u001B[1m1/1\u001B[0m \u001B[32m━━━━━━━━━━━━━━━━━━━━\u001B[0m\u001B[37m\u001B[0m \u001B[1m0s\u001B[0m 44ms/step\n",
      "\u001B[1m1/1\u001B[0m \u001B[32m━━━━━━━━━━━━━━━━━━━━\u001B[0m\u001B[37m\u001B[0m \u001B[1m0s\u001B[0m 49ms/step\n",
      "\u001B[1m1/1\u001B[0m \u001B[32m━━━━━━━━━━━━━━━━━━━━\u001B[0m\u001B[37m\u001B[0m \u001B[1m0s\u001B[0m 52ms/step\n",
      "\u001B[1m1/1\u001B[0m \u001B[32m━━━━━━━━━━━━━━━━━━━━\u001B[0m\u001B[37m\u001B[0m \u001B[1m0s\u001B[0m 47ms/step\n",
      "\u001B[1m1/1\u001B[0m \u001B[32m━━━━━━━━━━━━━━━━━━━━\u001B[0m\u001B[37m\u001B[0m \u001B[1m0s\u001B[0m 46ms/step\n",
      "\u001B[1m1/1\u001B[0m \u001B[32m━━━━━━━━━━━━━━━━━━━━\u001B[0m\u001B[37m\u001B[0m \u001B[1m0s\u001B[0m 45ms/step\n",
      "\u001B[1m1/1\u001B[0m \u001B[32m━━━━━━━━━━━━━━━━━━━━\u001B[0m\u001B[37m\u001B[0m \u001B[1m0s\u001B[0m 45ms/step\n",
      "\u001B[1m1/1\u001B[0m \u001B[32m━━━━━━━━━━━━━━━━━━━━\u001B[0m\u001B[37m\u001B[0m \u001B[1m0s\u001B[0m 44ms/step\n",
      "\u001B[1m1/1\u001B[0m \u001B[32m━━━━━━━━━━━━━━━━━━━━\u001B[0m\u001B[37m\u001B[0m \u001B[1m0s\u001B[0m 43ms/step\n",
      "\u001B[1m1/1\u001B[0m \u001B[32m━━━━━━━━━━━━━━━━━━━━\u001B[0m\u001B[37m\u001B[0m \u001B[1m0s\u001B[0m 94ms/step\n",
      "\u001B[1m1/1\u001B[0m \u001B[32m━━━━━━━━━━━━━━━━━━━━\u001B[0m\u001B[37m\u001B[0m \u001B[1m0s\u001B[0m 49ms/step\n",
      "\u001B[1m1/1\u001B[0m \u001B[32m━━━━━━━━━━━━━━━━━━━━\u001B[0m\u001B[37m\u001B[0m \u001B[1m0s\u001B[0m 44ms/step\n",
      "\u001B[1m1/1\u001B[0m \u001B[32m━━━━━━━━━━━━━━━━━━━━\u001B[0m\u001B[37m\u001B[0m \u001B[1m0s\u001B[0m 41ms/step\n",
      "\u001B[1m1/1\u001B[0m \u001B[32m━━━━━━━━━━━━━━━━━━━━\u001B[0m\u001B[37m\u001B[0m \u001B[1m0s\u001B[0m 46ms/step\n",
      "\u001B[1m1/1\u001B[0m \u001B[32m━━━━━━━━━━━━━━━━━━━━\u001B[0m\u001B[37m\u001B[0m \u001B[1m0s\u001B[0m 42ms/step\n",
      "\u001B[1m1/1\u001B[0m \u001B[32m━━━━━━━━━━━━━━━━━━━━\u001B[0m\u001B[37m\u001B[0m \u001B[1m0s\u001B[0m 42ms/step\n",
      "\u001B[1m1/1\u001B[0m \u001B[32m━━━━━━━━━━━━━━━━━━━━\u001B[0m\u001B[37m\u001B[0m \u001B[1m0s\u001B[0m 42ms/step\n",
      "\u001B[1m1/1\u001B[0m \u001B[32m━━━━━━━━━━━━━━━━━━━━\u001B[0m\u001B[37m\u001B[0m \u001B[1m0s\u001B[0m 42ms/step\n",
      "\u001B[1m1/1\u001B[0m \u001B[32m━━━━━━━━━━━━━━━━━━━━\u001B[0m\u001B[37m\u001B[0m \u001B[1m0s\u001B[0m 44ms/step\n",
      "\u001B[1m1/1\u001B[0m \u001B[32m━━━━━━━━━━━━━━━━━━━━\u001B[0m\u001B[37m\u001B[0m \u001B[1m0s\u001B[0m 43ms/step\n",
      "\u001B[1m1/1\u001B[0m \u001B[32m━━━━━━━━━━━━━━━━━━━━\u001B[0m\u001B[37m\u001B[0m \u001B[1m0s\u001B[0m 46ms/step\n",
      "\u001B[1m1/1\u001B[0m \u001B[32m━━━━━━━━━━━━━━━━━━━━\u001B[0m\u001B[37m\u001B[0m \u001B[1m0s\u001B[0m 107ms/step\n",
      "\u001B[1m1/1\u001B[0m \u001B[32m━━━━━━━━━━━━━━━━━━━━\u001B[0m\u001B[37m\u001B[0m \u001B[1m0s\u001B[0m 54ms/step\n",
      "\u001B[1m1/1\u001B[0m \u001B[32m━━━━━━━━━━━━━━━━━━━━\u001B[0m\u001B[37m\u001B[0m \u001B[1m0s\u001B[0m 44ms/step\n",
      "\u001B[1m1/1\u001B[0m \u001B[32m━━━━━━━━━━━━━━━━━━━━\u001B[0m\u001B[37m\u001B[0m \u001B[1m0s\u001B[0m 46ms/step\n",
      "\u001B[1m1/1\u001B[0m \u001B[32m━━━━━━━━━━━━━━━━━━━━\u001B[0m\u001B[37m\u001B[0m \u001B[1m0s\u001B[0m 47ms/step\n",
      "\u001B[1m1/1\u001B[0m \u001B[32m━━━━━━━━━━━━━━━━━━━━\u001B[0m\u001B[37m\u001B[0m \u001B[1m0s\u001B[0m 45ms/step\n",
      "\u001B[1m1/1\u001B[0m \u001B[32m━━━━━━━━━━━━━━━━━━━━\u001B[0m\u001B[37m\u001B[0m \u001B[1m0s\u001B[0m 45ms/step\n",
      "\u001B[1m1/1\u001B[0m \u001B[32m━━━━━━━━━━━━━━━━━━━━\u001B[0m\u001B[37m\u001B[0m \u001B[1m0s\u001B[0m 48ms/step\n",
      "\u001B[1m1/1\u001B[0m \u001B[32m━━━━━━━━━━━━━━━━━━━━\u001B[0m\u001B[37m\u001B[0m \u001B[1m0s\u001B[0m 48ms/step\n",
      "\u001B[1m1/1\u001B[0m \u001B[32m━━━━━━━━━━━━━━━━━━━━\u001B[0m\u001B[37m\u001B[0m \u001B[1m0s\u001B[0m 45ms/step\n",
      "\u001B[1m1/1\u001B[0m \u001B[32m━━━━━━━━━━━━━━━━━━━━\u001B[0m\u001B[37m\u001B[0m \u001B[1m0s\u001B[0m 113ms/step\n",
      "\u001B[1m1/1\u001B[0m \u001B[32m━━━━━━━━━━━━━━━━━━━━\u001B[0m\u001B[37m\u001B[0m \u001B[1m0s\u001B[0m 59ms/step\n",
      "\u001B[1m1/1\u001B[0m \u001B[32m━━━━━━━━━━━━━━━━━━━━\u001B[0m\u001B[37m\u001B[0m \u001B[1m0s\u001B[0m 46ms/step\n",
      "\u001B[1m1/1\u001B[0m \u001B[32m━━━━━━━━━━━━━━━━━━━━\u001B[0m\u001B[37m\u001B[0m \u001B[1m0s\u001B[0m 44ms/step\n",
      "\u001B[1m1/1\u001B[0m \u001B[32m━━━━━━━━━━━━━━━━━━━━\u001B[0m\u001B[37m\u001B[0m \u001B[1m0s\u001B[0m 45ms/step\n",
      "\u001B[1m1/1\u001B[0m \u001B[32m━━━━━━━━━━━━━━━━━━━━\u001B[0m\u001B[37m\u001B[0m \u001B[1m0s\u001B[0m 47ms/step\n",
      "\u001B[1m1/1\u001B[0m \u001B[32m━━━━━━━━━━━━━━━━━━━━\u001B[0m\u001B[37m\u001B[0m \u001B[1m0s\u001B[0m 46ms/step\n",
      "\u001B[1m1/1\u001B[0m \u001B[32m━━━━━━━━━━━━━━━━━━━━\u001B[0m\u001B[37m\u001B[0m \u001B[1m0s\u001B[0m 50ms/step\n",
      "\u001B[1m1/1\u001B[0m \u001B[32m━━━━━━━━━━━━━━━━━━━━\u001B[0m\u001B[37m\u001B[0m \u001B[1m0s\u001B[0m 46ms/step\n",
      "\u001B[1m1/1\u001B[0m \u001B[32m━━━━━━━━━━━━━━━━━━━━\u001B[0m\u001B[37m\u001B[0m \u001B[1m0s\u001B[0m 49ms/step\n",
      "\u001B[1m1/1\u001B[0m \u001B[32m━━━━━━━━━━━━━━━━━━━━\u001B[0m\u001B[37m\u001B[0m \u001B[1m0s\u001B[0m 107ms/step\n",
      "\u001B[1m1/1\u001B[0m \u001B[32m━━━━━━━━━━━━━━━━━━━━\u001B[0m\u001B[37m\u001B[0m \u001B[1m0s\u001B[0m 57ms/step\n",
      "\u001B[1m1/1\u001B[0m \u001B[32m━━━━━━━━━━━━━━━━━━━━\u001B[0m\u001B[37m\u001B[0m \u001B[1m0s\u001B[0m 49ms/step\n",
      "\u001B[1m1/1\u001B[0m \u001B[32m━━━━━━━━━━━━━━━━━━━━\u001B[0m\u001B[37m\u001B[0m \u001B[1m0s\u001B[0m 46ms/step\n",
      "\u001B[1m1/1\u001B[0m \u001B[32m━━━━━━━━━━━━━━━━━━━━\u001B[0m\u001B[37m\u001B[0m \u001B[1m0s\u001B[0m 50ms/step\n",
      "\u001B[1m1/1\u001B[0m \u001B[32m━━━━━━━━━━━━━━━━━━━━\u001B[0m\u001B[37m\u001B[0m \u001B[1m0s\u001B[0m 49ms/step\n",
      "\u001B[1m1/1\u001B[0m \u001B[32m━━━━━━━━━━━━━━━━━━━━\u001B[0m\u001B[37m\u001B[0m \u001B[1m0s\u001B[0m 50ms/step\n",
      "\u001B[1m1/1\u001B[0m \u001B[32m━━━━━━━━━━━━━━━━━━━━\u001B[0m\u001B[37m\u001B[0m \u001B[1m0s\u001B[0m 55ms/step\n",
      "\u001B[1m1/1\u001B[0m \u001B[32m━━━━━━━━━━━━━━━━━━━━\u001B[0m\u001B[37m\u001B[0m \u001B[1m0s\u001B[0m 46ms/step\n",
      "\u001B[1m1/1\u001B[0m \u001B[32m━━━━━━━━━━━━━━━━━━━━\u001B[0m\u001B[37m\u001B[0m \u001B[1m0s\u001B[0m 108ms/step\n",
      "\u001B[1m1/1\u001B[0m \u001B[32m━━━━━━━━━━━━━━━━━━━━\u001B[0m\u001B[37m\u001B[0m \u001B[1m0s\u001B[0m 65ms/step\n",
      "\u001B[1m1/1\u001B[0m \u001B[32m━━━━━━━━━━━━━━━━━━━━\u001B[0m\u001B[37m\u001B[0m \u001B[1m0s\u001B[0m 46ms/step\n",
      "\u001B[1m1/1\u001B[0m \u001B[32m━━━━━━━━━━━━━━━━━━━━\u001B[0m\u001B[37m\u001B[0m \u001B[1m0s\u001B[0m 51ms/step\n",
      "\u001B[1m1/1\u001B[0m \u001B[32m━━━━━━━━━━━━━━━━━━━━\u001B[0m\u001B[37m\u001B[0m \u001B[1m0s\u001B[0m 46ms/step\n",
      "\u001B[1m1/1\u001B[0m \u001B[32m━━━━━━━━━━━━━━━━━━━━\u001B[0m\u001B[37m\u001B[0m \u001B[1m0s\u001B[0m 46ms/step\n",
      "\u001B[1m1/1\u001B[0m \u001B[32m━━━━━━━━━━━━━━━━━━━━\u001B[0m\u001B[37m\u001B[0m \u001B[1m0s\u001B[0m 53ms/step\n",
      "\u001B[1m1/1\u001B[0m \u001B[32m━━━━━━━━━━━━━━━━━━━━\u001B[0m\u001B[37m\u001B[0m \u001B[1m0s\u001B[0m 50ms/step\n",
      "\u001B[1m1/1\u001B[0m \u001B[32m━━━━━━━━━━━━━━━━━━━━\u001B[0m\u001B[37m\u001B[0m \u001B[1m0s\u001B[0m 49ms/step\n"
     ]
    }
   ],
   "source": [
    "seed_chords = test_data[3][:8]\n",
    "new_chorale = generate_chorale(model, seed_chords, 56)"
   ]
  },
  {
   "cell_type": "code",
   "execution_count": null,
   "id": "ea07470e-65b3-472b-ba9e-c2ebdeded77c",
   "metadata": {},
   "outputs": [
    {
     "name": "stdout",
     "output_type": "stream",
     "text": [
      "[[73 68 61 53]\n",
      " [73 68 61 53]\n",
      " [73 68 61 53]\n",
      " [73 68 61 53]\n",
      " [69 66 61 54]\n",
      " [69 66 61 54]\n",
      " [69 66 61 54]\n",
      " [69 66 61 54]\n",
      " [68 64 59 56]\n",
      " [68 64 59 56]\n",
      " [68 64 59 56]\n",
      " [68 64 59 56]\n",
      " [66 64 61 57]\n",
      " [66 64 61 57]\n",
      " [66 62 61 57]\n",
      " [66 62 61 59]\n",
      " [64 62 59 59]\n",
      " [66 62 59 59]\n",
      " [66 62 59 59]\n",
      " [66 62 59 59]\n",
      " [66 62 59 59]\n",
      " [66 62 59 59]\n",
      " [66 62 59 59]\n",
      " [66 62 59 59]\n",
      " [66 62 59 59]\n",
      " [68 62 59 59]\n",
      " [68 62 59 59]\n",
      " [69 66 61 57]\n",
      " [69 66 61 57]\n",
      " [69 66 61 57]\n",
      " [69 66 61 57]\n",
      " [71 61 61 56]\n",
      " [71 61 61 56]\n",
      " [71 63 57 56]\n",
      " [71 62 57 56]\n",
      " [71 59 56 49]\n",
      " [71 59 56 49]\n",
      " [71 61 57 49]\n",
      " [71 61 57 49]\n",
      " [69 66 57 50]\n",
      " [69 66 57 50]\n",
      " [69 64 57 49]\n",
      " [69 64 57 49]\n",
      " [71 62 59 47]\n",
      " [71 62 59 47]\n",
      " [71 62 59 47]\n",
      " [71 62 59 47]\n",
      " [71 62 59 47]\n",
      " [71 62 59 47]\n",
      " [71 62 59 47]\n",
      " [71 62 59 47]\n",
      " [71 62 59 47]\n",
      " [71 62 59 47]\n",
      " [71 62 59 47]\n",
      " [71 62 59 47]\n",
      " [71 62 59 47]\n",
      " [71 62 59 47]\n",
      " [71 62 59 47]\n",
      " [71 62 59 47]\n",
      " [71 62 59 47]\n",
      " [71 62 59 47]\n",
      " [71 62 59 47]\n",
      " [71 62 59 47]\n",
      " [71 62 59 47]]\n"
     ]
    }
   ],
   "source": [
    "print(new_chorale)"
   ]
  },
  {
   "cell_type": "code",
   "execution_count": null,
   "id": "a36ca057-d283-430b-ab3a-7d538d7dbcd2",
   "metadata": {},
   "outputs": [
    {
     "data": {
      "text/html": [
       "\n",
       "        <div id=\"midiPlayerDiv3673\"></div>\n",
       "        <link rel=\"stylesheet\" href=\"https://cuthbertLab.github.io/music21j/css/m21.css\">\n",
       "        \n",
       "        <script\n",
       "        src=\"https://cdnjs.cloudflare.com/ajax/libs/require.js/2.3.6/require.min.js\"\n",
       "        ></script>\n",
       "    \n",
       "        <script>\n",
       "        function midiPlayerDiv3673_play() {\n",
       "            const rq = require.config({\n",
       "                paths: {\n",
       "                    'music21': 'https://cuthbertLab.github.io/music21j/releases/music21.debug',\n",
       "                }\n",
       "            });\n",
       "            rq(['music21'], function(music21) {\n",
       "                mp = new music21.miditools.MidiPlayer();\n",
       "                mp.addPlayer(\"#midiPlayerDiv3673\");\n",
       "                mp.base64Load(\"data:audio/midi;base64,TVRoZAAAAAYAAQACJ2BNVHJrAAAAFAD/UQMHoSAA/1gEBAIYCM5g/y8ATVRyawAACE4A/wMAAOAAQM5gkEpaAJBGWgCQQVoAkDpazmCASgAAgEYAAIBBAACAOgAAkEpaAJBGWgCQQVoAkDpazmCASgAAgEYAAIBBAACAOgAAkEpaAJBGWgCQQVoAkDpazmCASgAAgEYAAIBBAACAOgAAkEpaAJBGWgCQQVoAkDpazmCASgAAgEYAAIBBAACAOgAAkEZaAJBDWgCQP1oAkD9azmCARgAAgEMAAIA/AACAPwAAkEZaAJBDWgCQP1oAkD9azmCARgAAgEMAAIA/AACAPwAAkEZaAJBDWgCQP1oAkD5azmCARgAAgEMAAIA/AACAPgAAkEZaAJBDWgCQP1oAkD5azmCARgAAgEMAAIA/AACAPgAAkEhaAJBBWgCQPFoAkEFazmCASAAAgEEAAIA8AACAQQAAkEhaAJBBWgCQPFoAkEFazmCASAAAgEEAAIA8AACAQQAAkEhaAJBAWgCQPFoAkEFazmCASAAAgEAAAIA8AACAQQAAkEhaAJBAWgCQPFoAkEFazmCASAAAgEAAAIA8AACAQQAAkEhaAJBBWgCQPFoAkEVazmCASAAAgEEAAIA8AACARQAAkEhaAJBBWgCQPFoAkEVazmCASAAAgEEAAIA8AACARQAAkEhaAJBBWgCQPFoAkEVazmCASAAAgEEAAIA8AACARQAAkEhaAJBBWgCQPFoAkEVazmCASAAAgEEAAIA8AACARQAAkENaAJBBWgCQPFoAkENazmCAQwAAgEEAAIA8AACAQwAAkENaAJBBWgCQPFoAkENazmCAQwAAgEEAAIA8AACAQwAAkENaAJBAWgCQPFoAkENazmCAQwAAgEAAAIA8AACAQwAAkENaAJA+WgCQOloAkENazmCAQwAAgD4AAIA6AACAQwAAkENaAJBAWgCQOloAkEhazmCAQwAAgEAAAIA6AACASAAAkENaAJBAWgCQOVoAkEhazmCAQwAAgEAAAIA5AACASAAAkEFaAJBAWgCQOVoAkEhazmCAQQAAgEAAAIA5AACASAAAkEFaAJBAWgCQOVoAkEhazmCAQQAAgEAAAIA5AACASAAAkEFaAJA+WgCQOVoAkEhazmCAQQAAgD4AAIA5AACASAAAkEFaAJA+WgCQOVoAkEhazmCAQQAAgD4AAIA5AACASAAAkEFaAJA+WgCQOVoAkEhazmCAQQAAgD4AAIA5AACASAAAkEFaAJA+WgCQOVoAkEhazmCAQQAAgD4AAIA5AACASAAAkENaAJA8WgCQOVoAkEhazmCAQwAAgDwAAIA5AACASAAAkENaAJA8WgCQOVoAkEhazmCAQwAAgDwAAIA5AACASAAAkENaAJA6WgCQMloAkEhazmCAQwAAgDoAAIAyAACASAAAkENaAJA6WgCQMloAkEhazmCAQwAAgDoAAIAyAACASAAAkENaAJA5WgCQMloAkEhazmCAQwAAgDkAAIAyAACASAAAkENaAJA5WgCQMloAkEpazmCAQwAAgDkAAIAyAACASgAAkEJaAJA5WgCQMloAkEpazmCAQgAAgDkAAIAyAACASgAAkEJaAJA5WgCQMloAkEpazmCAQgAAgDkAAIAyAACASgAAkEJaAJA5WgCQMloAkEpazmCAQgAAgDkAAIAyAACASgAAkEJaAJA5WgCQMloAkENazmCAQgAAgDkAAIAyAACAQwAAkEJaAJA6WgCQM1oAkENazmCAQgAAgDoAAIAzAACAQwAAkEJaAJA6WgCQM1oAkENazmCAQgAAgDoAAIAzAACAQwAAkENaAJA6WgCQM1oAkENazmCAQwAAgDoAAIAzAACAQwAAkENaAJA6WgCQM1oAkEpazmCAQwAAgDoAAIAzAACASgAAkENaAJA6WgCQN1oAkEpazmCAQwAAgDoAAIA3AACASgAAkENaAJA6WgCQN1oAkEpazmCAQwAAgDoAAIA3AACASgAAkENaAJA6WgCQNVoAkEpazmCAQwAAgDoAAIA1AACASgAAkENaAJA6WgCQNVoAkEhazmCAQwAAgDoAAIA1AACASAAAkENaAJA6WgCQM1oAkEhazmCAQwAAgDoAAIAzAACASAAAkENaAJA6WgCQM1oAkEhazmCAQwAAgDoAAIAzAACASAAAkENaAJA6WgCQM1oAkEhazmCAQwAAgDoAAIAzAACASAAAkENaAJA6WgCQM1oAkEhazmCAQwAAgDoAAIAzAACASAAAkEFaAJA5WgCQNVoAkEhazmCAQQAAgDkAAIA1AACASAAAkEFaAJA5WgCQNVoAkEhazmCAQQAAgDkAAIA1AACASAAAkD9aAJA5WgCQNVoAkEhazmCAPwAAgDkAAIA1AACASAAAkD9aAJA5WgCQNVoAkEZazmCAPwAAgDkAAIA1AACARgAAkD5aAJA1WgCQLloAkEZazmCAPgAAgDUAAIAuAACARgAAkD5aAJA1WgCQLloAkEZazmCAPgAAgDUAAIAuAACARgAAkD5aAJA1WgCQLloAkEZazmCAPgAAgDUAAIAuAACARgAAkD5aAJA1WgCQLloAkEpazmCAPgAAgDUAAIAuAACASgAAkEFaAJA1WgCQLloAkEpazmCAQQAAgDUAAIAuAACASgAAkEFaAJA1WgCQLloAkEhazmCAQQAAgDUAAIAuAACASAAAkEBaAJAzWgCQMFoAkEhazmCAQAAAgDMAAIAwAACASAAAkEBaAJAzWgCQMFoAkEZazmCAQAAAgDMAAIAwAACARgAAkD5aAJAzWgCQMloAkEZazmCAPgAAgDMAAIAyAACARgAAkD5aAJAzWgCQMloAkEVazmCAPgAAgDMAAIAyAACARQDOYP8vAA==\");\n",
       "            });\n",
       "        }\n",
       "        if (typeof require === 'undefined') {\n",
       "            setTimeout(midiPlayerDiv3673_play, 2000);\n",
       "        } else {\n",
       "            midiPlayerDiv3673_play();\n",
       "        }\n",
       "        </script>"
      ],
      "text/plain": [
       "<IPython.core.display.HTML object>"
      ]
     },
     "metadata": {},
     "output_type": "display_data"
    }
   ],
   "source": [
    "# Let's generate an exclusive song\n",
    "chorale = new_chorale.tolist()\n",
    "s = stream.Stream()\n",
    "for row in chorale:\n",
    "    s.append(chord.Chord([n for n in row if n], quaterLength=1))\n",
    "s.show('midi')"
   ]
  },
  {
   "cell_type": "code",
   "execution_count": null,
   "id": "f2e7711b-7efa-4fe4-8cd3-b0ceba6197b8",
   "metadata": {},
   "outputs": [],
   "source": []
  }
 ],
 "metadata": {
  "kernelspec": {
   "display_name": "Python 3 (ipykernel)",
   "language": "python",
   "name": "python3"
  },
  "language_info": {
   "codemirror_mode": {
    "name": "ipython",
    "version": 3
   },
   "file_extension": ".py",
   "mimetype": "text/x-python",
   "name": "python",
   "nbconvert_exporter": "python",
   "pygments_lexer": "ipython3",
   "version": "3.13.5"
  }
 },
 "nbformat": 4,
 "nbformat_minor": 5
}
